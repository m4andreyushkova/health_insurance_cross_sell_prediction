{
 "cells": [
  {
   "cell_type": "code",
   "execution_count": 205,
   "id": "a3afb81f",
   "metadata": {},
   "outputs": [],
   "source": [
    "import numpy as np\n",
    "import pandas as pd\n",
    "\n",
    "from sklearn.model_selection import train_test_split\n",
    "from sklearn.model_selection import cross_val_score, cross_validate\n",
    "from sklearn.model_selection import StratifiedKFold\n",
    "from sklearn.metrics import accuracy_score, precision_score, recall_score, f1_score, roc_auc_score\n",
    "from sklearn.model_selection import GridSearchCV, RandomizedSearchCV\n",
    "from sklearn.model_selection import learning_curve, validation_curve\n",
    "from sklearn.preprocessing import MinMaxScaler\n",
    "from imblearn.under_sampling import NearMiss\n",
    "\n",
    "from sklearn.linear_model import LogisticRegression\n",
    "from sklearn.svm import SVC\n",
    "from sklearn.tree import DecisionTreeClassifier, export_graphviz\n",
    "from sklearn.ensemble import RandomForestClassifier\n",
    "from lightgbm import LGBMClassifier\n",
    "\n",
    "\n",
    "import pydotplus \n",
    "import graphviz \n",
    "\n",
    "import seaborn as sns\n",
    "import matplotlib.pyplot as plt\n",
    "\n",
    "%matplotlib inline \n",
    "sns.set(style=\"ticks\")\n",
    "\n",
    "import warnings\n",
    "warnings.filterwarnings(\"ignore\")"
   ]
  },
  {
   "cell_type": "code",
   "execution_count": 34,
   "id": "422ed517",
   "metadata": {},
   "outputs": [],
   "source": [
    "data = pd.read_csv(\"./insurance_dataset.csv\")\n",
    "data.drop('id', axis = 1,inplace=True)"
   ]
  },
  {
   "cell_type": "markdown",
   "id": "cee77fe5",
   "metadata": {},
   "source": [
    "# 1) Предварительный анализ (EDA)"
   ]
  },
  {
   "cell_type": "code",
   "execution_count": 35,
   "id": "9208431e",
   "metadata": {},
   "outputs": [
    {
     "data": {
      "text/html": [
       "<div>\n",
       "<style scoped>\n",
       "    .dataframe tbody tr th:only-of-type {\n",
       "        vertical-align: middle;\n",
       "    }\n",
       "\n",
       "    .dataframe tbody tr th {\n",
       "        vertical-align: top;\n",
       "    }\n",
       "\n",
       "    .dataframe thead th {\n",
       "        text-align: right;\n",
       "    }\n",
       "</style>\n",
       "<table border=\"1\" class=\"dataframe\">\n",
       "  <thead>\n",
       "    <tr style=\"text-align: right;\">\n",
       "      <th></th>\n",
       "      <th>Gender</th>\n",
       "      <th>Age</th>\n",
       "      <th>Driving_License</th>\n",
       "      <th>Region_Code</th>\n",
       "      <th>Previously_Insured</th>\n",
       "      <th>Vehicle_Age</th>\n",
       "      <th>Vehicle_Damage</th>\n",
       "      <th>Annual_Premium</th>\n",
       "      <th>Policy_Sales_Channel</th>\n",
       "      <th>Vintage</th>\n",
       "      <th>Response</th>\n",
       "    </tr>\n",
       "  </thead>\n",
       "  <tbody>\n",
       "    <tr>\n",
       "      <th>0</th>\n",
       "      <td>Male</td>\n",
       "      <td>44</td>\n",
       "      <td>1</td>\n",
       "      <td>28.0</td>\n",
       "      <td>0</td>\n",
       "      <td>&gt; 2 Years</td>\n",
       "      <td>Yes</td>\n",
       "      <td>40454.0</td>\n",
       "      <td>26.0</td>\n",
       "      <td>217</td>\n",
       "      <td>1</td>\n",
       "    </tr>\n",
       "    <tr>\n",
       "      <th>1</th>\n",
       "      <td>Male</td>\n",
       "      <td>76</td>\n",
       "      <td>1</td>\n",
       "      <td>3.0</td>\n",
       "      <td>0</td>\n",
       "      <td>1-2 Year</td>\n",
       "      <td>No</td>\n",
       "      <td>33536.0</td>\n",
       "      <td>26.0</td>\n",
       "      <td>183</td>\n",
       "      <td>0</td>\n",
       "    </tr>\n",
       "    <tr>\n",
       "      <th>2</th>\n",
       "      <td>Male</td>\n",
       "      <td>47</td>\n",
       "      <td>1</td>\n",
       "      <td>28.0</td>\n",
       "      <td>0</td>\n",
       "      <td>&gt; 2 Years</td>\n",
       "      <td>Yes</td>\n",
       "      <td>38294.0</td>\n",
       "      <td>26.0</td>\n",
       "      <td>27</td>\n",
       "      <td>1</td>\n",
       "    </tr>\n",
       "    <tr>\n",
       "      <th>3</th>\n",
       "      <td>Male</td>\n",
       "      <td>21</td>\n",
       "      <td>1</td>\n",
       "      <td>11.0</td>\n",
       "      <td>1</td>\n",
       "      <td>&lt; 1 Year</td>\n",
       "      <td>No</td>\n",
       "      <td>28619.0</td>\n",
       "      <td>152.0</td>\n",
       "      <td>203</td>\n",
       "      <td>0</td>\n",
       "    </tr>\n",
       "    <tr>\n",
       "      <th>4</th>\n",
       "      <td>Female</td>\n",
       "      <td>29</td>\n",
       "      <td>1</td>\n",
       "      <td>41.0</td>\n",
       "      <td>1</td>\n",
       "      <td>&lt; 1 Year</td>\n",
       "      <td>No</td>\n",
       "      <td>27496.0</td>\n",
       "      <td>152.0</td>\n",
       "      <td>39</td>\n",
       "      <td>0</td>\n",
       "    </tr>\n",
       "  </tbody>\n",
       "</table>\n",
       "</div>"
      ],
      "text/plain": [
       "   Gender  Age  Driving_License  Region_Code  Previously_Insured Vehicle_Age  \\\n",
       "0    Male   44                1         28.0                   0   > 2 Years   \n",
       "1    Male   76                1          3.0                   0    1-2 Year   \n",
       "2    Male   47                1         28.0                   0   > 2 Years   \n",
       "3    Male   21                1         11.0                   1    < 1 Year   \n",
       "4  Female   29                1         41.0                   1    < 1 Year   \n",
       "\n",
       "  Vehicle_Damage  Annual_Premium  Policy_Sales_Channel  Vintage  Response  \n",
       "0            Yes         40454.0                  26.0      217         1  \n",
       "1             No         33536.0                  26.0      183         0  \n",
       "2            Yes         38294.0                  26.0       27         1  \n",
       "3             No         28619.0                 152.0      203         0  \n",
       "4             No         27496.0                 152.0       39         0  "
      ]
     },
     "execution_count": 35,
     "metadata": {},
     "output_type": "execute_result"
    }
   ],
   "source": [
    "data.head()"
   ]
  },
  {
   "cell_type": "code",
   "execution_count": 36,
   "id": "f72881b9",
   "metadata": {},
   "outputs": [
    {
     "data": {
      "text/plain": [
       "Gender                  0\n",
       "Age                     0\n",
       "Driving_License         0\n",
       "Region_Code             0\n",
       "Previously_Insured      0\n",
       "Vehicle_Age             0\n",
       "Vehicle_Damage          0\n",
       "Annual_Premium          0\n",
       "Policy_Sales_Channel    0\n",
       "Vintage                 0\n",
       "Response                0\n",
       "dtype: int64"
      ]
     },
     "execution_count": 36,
     "metadata": {},
     "output_type": "execute_result"
    }
   ],
   "source": [
    "data.isnull().sum() #проверка наличия пропусков"
   ]
  },
  {
   "cell_type": "code",
   "execution_count": 37,
   "id": "022b9c0f",
   "metadata": {},
   "outputs": [
    {
     "data": {
      "text/plain": [
       "Gender                   object\n",
       "Age                       int64\n",
       "Driving_License           int64\n",
       "Region_Code             float64\n",
       "Previously_Insured        int64\n",
       "Vehicle_Age              object\n",
       "Vehicle_Damage           object\n",
       "Annual_Premium          float64\n",
       "Policy_Sales_Channel    float64\n",
       "Vintage                   int64\n",
       "Response                  int64\n",
       "dtype: object"
      ]
     },
     "execution_count": 37,
     "metadata": {},
     "output_type": "execute_result"
    }
   ],
   "source": [
    "data.dtypes #проверка наличия категориальных признаков"
   ]
  },
  {
   "cell_type": "markdown",
   "id": "ffc53c36",
   "metadata": {},
   "source": [
    "Из всех признаков только 3 категориальных, пропусков в данных нет\n",
    "  \n",
    "Также посчитаем imbalance ratio(IR), чтобы определить, является ли датасет несбалансированным относительно целевого признака."
   ]
  },
  {
   "cell_type": "code",
   "execution_count": 38,
   "id": "8fd574a2",
   "metadata": {},
   "outputs": [
    {
     "data": {
      "text/plain": [
       "0    334399\n",
       "1     46710\n",
       "Name: Response, dtype: int64"
      ]
     },
     "execution_count": 38,
     "metadata": {},
     "output_type": "execute_result"
    }
   ],
   "source": [
    "balance_table = data['Response'].value_counts()\n",
    "balance_table"
   ]
  },
  {
   "cell_type": "code",
   "execution_count": 39,
   "id": "a214144a",
   "metadata": {},
   "outputs": [
    {
     "data": {
      "text/plain": [
       "0.13968343206767964"
      ]
     },
     "execution_count": 39,
     "metadata": {},
     "output_type": "execute_result"
    }
   ],
   "source": [
    "IR = balance_table[1]/balance_table[0]\n",
    "IR"
   ]
  },
  {
   "cell_type": "markdown",
   "id": "dd95cbf1",
   "metadata": {},
   "source": [
    "IR примерно равен 0.1, поэтому датасет может считаться несбалансированным и перед обучением моделей нужно будет провести сэмплинг (см. далее)"
   ]
  },
  {
   "cell_type": "markdown",
   "id": "1cc7edf3",
   "metadata": {},
   "source": [
    "Визуализируем распределение признаков"
   ]
  },
  {
   "cell_type": "code",
   "execution_count": 40,
   "id": "8541bb10",
   "metadata": {},
   "outputs": [],
   "source": [
    "d_cols = ['Gender','Driving_License', 'Previously_Insured','Vehicle_Age','Vehicle_Damage']\n",
    "c_cols = ['Age','Vintage','Annual_Premium','Policy_Sales_Channel','Region_Code']"
   ]
  },
  {
   "cell_type": "code",
   "execution_count": 41,
   "id": "17f2b33b",
   "metadata": {},
   "outputs": [
    {
     "data": {
      "image/png": "[encoded data removed]",
      "text/plain": [
       "<Figure size 1000x1000 with 5 Axes>"
      ]
     },
     "metadata": {},
     "output_type": "display_data"
    }
   ],
   "source": [
    "plt.figure(figsize = (10,10))\n",
    "for i in range(len(c_cols)):\n",
    "    plt.subplot(3,2,i+1)\n",
    "    sns.histplot(data[c_cols[i]], kde = False)"
   ]
  },
  {
   "cell_type": "code",
   "execution_count": 42,
   "id": "8ce08be1",
   "metadata": {},
   "outputs": [
    {
     "data": {
      "image/png": "[encoded data removed]",
      "text/plain": [
       "<Figure size 1000x1000 with 5 Axes>"
      ]
     },
     "metadata": {},
     "output_type": "display_data"
    }
   ],
   "source": [
    "plt.figure(figsize = (10,10))\n",
    "for i in range(len(d_cols)):\n",
    "    plt.subplot(3,2,i+1)\n",
    "    sns.countplot(x = d_cols[i], palette = 'Set2', data = data)"
   ]
  },
  {
   "cell_type": "markdown",
   "id": "58874078",
   "metadata": {},
   "source": [
    "# 2) Обработка данных "
   ]
  },
  {
   "cell_type": "markdown",
   "id": "22441969",
   "metadata": {},
   "source": [
    "###  Кодирование категориальных признаков"
   ]
  },
  {
   "cell_type": "code",
   "execution_count": 43,
   "id": "ef89a2ac",
   "metadata": {},
   "outputs": [],
   "source": [
    "data_coded=data.copy()"
   ]
  },
  {
   "cell_type": "markdown",
   "id": "d4eea49a",
   "metadata": {},
   "source": [
    "Посмотрим, какие уникальные значения есть у каждого категориального признака, чтобы определиться с видом кодирования"
   ]
  },
  {
   "cell_type": "code",
   "execution_count": 4,
   "id": "ce33698e",
   "metadata": {},
   "outputs": [
    {
     "name": "stdout",
     "output_type": "stream",
     "text": [
      "Gender ['Male' 'Female']\n",
      "Vehicle_Age ['> 2 Years' '1-2 Year' '< 1 Year']\n",
      "Vehicle_Damage ['Yes' 'No']\n"
     ]
    }
   ],
   "source": [
    "for col in ['Gender','Vehicle_Age','Vehicle_Damage']:\n",
    "    print(col, data[col].unique())"
   ]
  },
  {
   "cell_type": "markdown",
   "id": "b491f0e8",
   "metadata": {},
   "source": [
    "Бинарные признаки Gender и Vehicle_Damage закодируем как 0 и 1"
   ]
  },
  {
   "cell_type": "code",
   "execution_count": 44,
   "id": "866e8c8e",
   "metadata": {},
   "outputs": [],
   "source": [
    "data_coded['Gender']=data_coded['Gender'].map({\"Male\": 1, \"Female\": 0})\n",
    "data_coded['Vehicle_Damage']=data_coded['Vehicle_Damage'].map({\"Yes\": 1, \"No\": 0})"
   ]
  },
  {
   "cell_type": "markdown",
   "id": "eb0fa4c9",
   "metadata": {},
   "source": [
    "Для признака Vehicle_Age можно использовать несколько видов кодирования. Признак имеет в своей основе явный порядок, соответствующий увеличению возраста транспортного средства. Label encoding сопоставляет числа категориям случайным образом и может создать ложный порядок, а One hot encoding расширяет пространство признаков и в целом здесь не является необходимым, поэтому более логичным будет присваивание категориям значений согласно заложенному порядку: 0 для категории '< 1 Year', 1 для категории '1-2 Year', 2 для категории '> 2 Years'"
   ]
  },
  {
   "cell_type": "code",
   "execution_count": 45,
   "id": "f96fb306",
   "metadata": {},
   "outputs": [],
   "source": [
    "data_coded['Vehicle_Age']=data_coded['Vehicle_Age'].map({'< 1 Year': 0, '1-2 Year': 1, '> 2 Years': 2})"
   ]
  },
  {
   "cell_type": "code",
   "execution_count": 7,
   "id": "40d3b941",
   "metadata": {},
   "outputs": [
    {
     "data": {
      "text/plain": [
       "Gender                    int64\n",
       "Age                       int64\n",
       "Driving_License           int64\n",
       "Region_Code             float64\n",
       "Previously_Insured        int64\n",
       "Vehicle_Age               int64\n",
       "Vehicle_Damage            int64\n",
       "Annual_Premium          float64\n",
       "Policy_Sales_Channel    float64\n",
       "Vintage                   int64\n",
       "Response                  int64\n",
       "dtype: object"
      ]
     },
     "execution_count": 7,
     "metadata": {},
     "output_type": "execute_result"
    }
   ],
   "source": [
    "data_coded.dtypes"
   ]
  },
  {
   "cell_type": "markdown",
   "id": "3a0d57c5",
   "metadata": {},
   "source": [
    "### Обработка выбросов"
   ]
  },
  {
   "cell_type": "code",
   "execution_count": 46,
   "id": "c1c82db3",
   "metadata": {},
   "outputs": [],
   "source": [
    "data_without_outliers = data_coded.copy()"
   ]
  },
  {
   "cell_type": "markdown",
   "id": "2626009e",
   "metadata": {},
   "source": [
    "Рассматриваем только колонки 'Annual_Premium', 'Age' и 'Vintage', поскольку остальные являются категориальными или псевдокатегориальными"
   ]
  },
  {
   "cell_type": "code",
   "execution_count": 9,
   "id": "830c75d7",
   "metadata": {},
   "outputs": [
    {
     "data": {
      "image/png": "[encoded data removed]",
      "text/plain": [
       "<Figure size 1000x1000 with 3 Axes>"
      ]
     },
     "metadata": {},
     "output_type": "display_data"
    }
   ],
   "source": [
    "plt.figure(figsize = (10,10))\n",
    "cols = ['Annual_Premium','Age', 'Vintage']\n",
    "\n",
    "for i in range(len(cols)):\n",
    "    plt.subplot(2,2,i+1)\n",
    "    sns.boxplot(x=cols[i], data=data_coded)\n",
    "    \n",
    "plt.show()"
   ]
  },
  {
   "cell_type": "markdown",
   "id": "74629dec",
   "metadata": {},
   "source": [
    "Посмотрим, каков процент выбросов у признака 'Annual_Premium'"
   ]
  },
  {
   "cell_type": "code",
   "execution_count": 47,
   "id": "880f13cf",
   "metadata": {},
   "outputs": [
    {
     "name": "stdout",
     "output_type": "stream",
     "text": [
      "Процент выбросов равен 2.70788672007221\n"
     ]
    }
   ],
   "source": [
    "Q1 = data_coded['Annual_Premium'].quantile(q=.25)\n",
    "Q3 = data_coded['Annual_Premium'].quantile(q=.75)\n",
    "IQR = Q3-Q1\n",
    "data_outliers=data_coded[(data_coded['Annual_Premium'] < (Q1-1.5*IQR)) | (data_coded['Annual_Premium'] > (Q3+1.5*IQR))]\n",
    "print('Процент выбросов равен', (data_outliers.shape[0]/data_coded.shape[0])*100)"
   ]
  },
  {
   "cell_type": "markdown",
   "id": "9a06dbb4",
   "metadata": {},
   "source": [
    "Заменим выбросы на крайние значения, вычисляемые с помощью межквартильного размаха IQR"
   ]
  },
  {
   "cell_type": "code",
   "execution_count": 48,
   "id": "909e30b8",
   "metadata": {},
   "outputs": [
    {
     "data": {
      "text/plain": [
       "<AxesSubplot:xlabel='Annual_Premium'>"
      ]
     },
     "execution_count": 48,
     "metadata": {},
     "output_type": "execute_result"
    },
    {
     "data": {
      "image/png": "[encoded data removed]",
      "text/plain": [
       "<Figure size 640x480 with 1 Axes>"
      ]
     },
     "metadata": {},
     "output_type": "display_data"
    }
   ],
   "source": [
    "def f_1(Annual_Premium):\n",
    "    if Annual_Premium<(Q1-1.5*IQR):\n",
    "        return Q1-1.5*IQR\n",
    "    elif Annual_Premium>(Q3+1.5*IQR):\n",
    "        return Q3+1.5*IQR\n",
    "    else:\n",
    "        return Annual_Premium\n",
    "data_with_modified_outliers=data_coded['Annual_Premium'].apply(f_1)\n",
    "sns.boxplot(x=data_with_modified_outliers,fliersize=0.2)"
   ]
  },
  {
   "cell_type": "code",
   "execution_count": 49,
   "id": "51e41828",
   "metadata": {},
   "outputs": [],
   "source": [
    "data_without_outliers.drop('Annual_Premium',axis=1,inplace=True)\n",
    "data_without_outliers['Annual_Premium']=list(data_with_modified_outliers)"
   ]
  },
  {
   "cell_type": "markdown",
   "id": "96676d92",
   "metadata": {},
   "source": [
    "### Масштабирование"
   ]
  },
  {
   "cell_type": "code",
   "execution_count": 50,
   "id": "c1de481b",
   "metadata": {},
   "outputs": [],
   "source": [
    "data_scaled = data_without_outliers.copy()"
   ]
  },
  {
   "cell_type": "markdown",
   "id": "7758f675",
   "metadata": {},
   "source": [
    "Посмотрим, какие признаки необходимо отмасштабировать"
   ]
  },
  {
   "cell_type": "code",
   "execution_count": 51,
   "id": "499c12bb",
   "metadata": {},
   "outputs": [
    {
     "data": {
      "text/html": [
       "<div>\n",
       "<style scoped>\n",
       "    .dataframe tbody tr th:only-of-type {\n",
       "        vertical-align: middle;\n",
       "    }\n",
       "\n",
       "    .dataframe tbody tr th {\n",
       "        vertical-align: top;\n",
       "    }\n",
       "\n",
       "    .dataframe thead th {\n",
       "        text-align: right;\n",
       "    }\n",
       "</style>\n",
       "<table border=\"1\" class=\"dataframe\">\n",
       "  <thead>\n",
       "    <tr style=\"text-align: right;\">\n",
       "      <th></th>\n",
       "      <th>Gender</th>\n",
       "      <th>Age</th>\n",
       "      <th>Driving_License</th>\n",
       "      <th>Region_Code</th>\n",
       "      <th>Previously_Insured</th>\n",
       "      <th>Vehicle_Age</th>\n",
       "      <th>Vehicle_Damage</th>\n",
       "      <th>Policy_Sales_Channel</th>\n",
       "      <th>Vintage</th>\n",
       "      <th>Response</th>\n",
       "      <th>Annual_Premium</th>\n",
       "    </tr>\n",
       "  </thead>\n",
       "  <tbody>\n",
       "    <tr>\n",
       "      <th>min</th>\n",
       "      <td>0</td>\n",
       "      <td>20</td>\n",
       "      <td>0</td>\n",
       "      <td>0.0</td>\n",
       "      <td>0</td>\n",
       "      <td>0</td>\n",
       "      <td>0</td>\n",
       "      <td>1.0</td>\n",
       "      <td>10</td>\n",
       "      <td>0</td>\n",
       "      <td>2630.0</td>\n",
       "    </tr>\n",
       "    <tr>\n",
       "      <th>max</th>\n",
       "      <td>1</td>\n",
       "      <td>85</td>\n",
       "      <td>1</td>\n",
       "      <td>52.0</td>\n",
       "      <td>1</td>\n",
       "      <td>2</td>\n",
       "      <td>1</td>\n",
       "      <td>163.0</td>\n",
       "      <td>299</td>\n",
       "      <td>1</td>\n",
       "      <td>61892.5</td>\n",
       "    </tr>\n",
       "  </tbody>\n",
       "</table>\n",
       "</div>"
      ],
      "text/plain": [
       "     Gender  Age  Driving_License  Region_Code  Previously_Insured  \\\n",
       "min       0   20                0          0.0                   0   \n",
       "max       1   85                1         52.0                   1   \n",
       "\n",
       "     Vehicle_Age  Vehicle_Damage  Policy_Sales_Channel  Vintage  Response  \\\n",
       "min            0               0                   1.0       10         0   \n",
       "max            2               1                 163.0      299         1   \n",
       "\n",
       "     Annual_Premium  \n",
       "min          2630.0  \n",
       "max         61892.5  "
      ]
     },
     "execution_count": 51,
     "metadata": {},
     "output_type": "execute_result"
    }
   ],
   "source": [
    "data_scaled.agg(['min', 'max'])"
   ]
  },
  {
   "cell_type": "code",
   "execution_count": 52,
   "id": "444580bb",
   "metadata": {},
   "outputs": [],
   "source": [
    "cols_to_scale=['Age','Region_Code','Vehicle_Age','Policy_Sales_Channel','Vintage','Annual_Premium']"
   ]
  },
  {
   "cell_type": "code",
   "execution_count": 53,
   "id": "6c0e1995",
   "metadata": {},
   "outputs": [],
   "source": [
    "for col in cols_to_scale:\n",
    "    sc = MinMaxScaler()\n",
    "    data_scaled[[col]]=list(sc.fit_transform(data_scaled[[col]]))"
   ]
  },
  {
   "cell_type": "code",
   "execution_count": 54,
   "id": "601538bf",
   "metadata": {},
   "outputs": [
    {
     "data": {
      "text/html": [
       "<div>\n",
       "<style scoped>\n",
       "    .dataframe tbody tr th:only-of-type {\n",
       "        vertical-align: middle;\n",
       "    }\n",
       "\n",
       "    .dataframe tbody tr th {\n",
       "        vertical-align: top;\n",
       "    }\n",
       "\n",
       "    .dataframe thead th {\n",
       "        text-align: right;\n",
       "    }\n",
       "</style>\n",
       "<table border=\"1\" class=\"dataframe\">\n",
       "  <thead>\n",
       "    <tr style=\"text-align: right;\">\n",
       "      <th></th>\n",
       "      <th>Gender</th>\n",
       "      <th>Age</th>\n",
       "      <th>Driving_License</th>\n",
       "      <th>Region_Code</th>\n",
       "      <th>Previously_Insured</th>\n",
       "      <th>Vehicle_Age</th>\n",
       "      <th>Vehicle_Damage</th>\n",
       "      <th>Policy_Sales_Channel</th>\n",
       "      <th>Vintage</th>\n",
       "      <th>Response</th>\n",
       "      <th>Annual_Premium</th>\n",
       "    </tr>\n",
       "  </thead>\n",
       "  <tbody>\n",
       "    <tr>\n",
       "      <th>min</th>\n",
       "      <td>0</td>\n",
       "      <td>0.0</td>\n",
       "      <td>0</td>\n",
       "      <td>0.0</td>\n",
       "      <td>0</td>\n",
       "      <td>0.0</td>\n",
       "      <td>0</td>\n",
       "      <td>0.0</td>\n",
       "      <td>0.0</td>\n",
       "      <td>0</td>\n",
       "      <td>0.0</td>\n",
       "    </tr>\n",
       "    <tr>\n",
       "      <th>max</th>\n",
       "      <td>1</td>\n",
       "      <td>1.0</td>\n",
       "      <td>1</td>\n",
       "      <td>1.0</td>\n",
       "      <td>1</td>\n",
       "      <td>1.0</td>\n",
       "      <td>1</td>\n",
       "      <td>1.0</td>\n",
       "      <td>1.0</td>\n",
       "      <td>1</td>\n",
       "      <td>1.0</td>\n",
       "    </tr>\n",
       "  </tbody>\n",
       "</table>\n",
       "</div>"
      ],
      "text/plain": [
       "     Gender  Age  Driving_License  Region_Code  Previously_Insured  \\\n",
       "min       0  0.0                0          0.0                   0   \n",
       "max       1  1.0                1          1.0                   1   \n",
       "\n",
       "     Vehicle_Age  Vehicle_Damage  Policy_Sales_Channel  Vintage  Response  \\\n",
       "min          0.0               0                   0.0      0.0         0   \n",
       "max          1.0               1                   1.0      1.0         1   \n",
       "\n",
       "     Annual_Premium  \n",
       "min             0.0  \n",
       "max             1.0  "
      ]
     },
     "execution_count": 54,
     "metadata": {},
     "output_type": "execute_result"
    }
   ],
   "source": [
    "data_scaled.agg(['min', 'max'])"
   ]
  },
  {
   "cell_type": "markdown",
   "id": "3a946970",
   "metadata": {},
   "source": [
    "### Отбор признаков"
   ]
  },
  {
   "cell_type": "markdown",
   "id": "0a523944",
   "metadata": {},
   "source": [
    "*1) Отбор на основе корреляции признаков между собой и с целевой переменной*"
   ]
  },
  {
   "cell_type": "code",
   "execution_count": 26,
   "id": "3e6950ba",
   "metadata": {},
   "outputs": [
    {
     "data": {
      "text/plain": [
       "<AxesSubplot:>"
      ]
     },
     "execution_count": 26,
     "metadata": {},
     "output_type": "execute_result"
    },
    {
     "data": {
      "image/png": "[encoded data removed]",
      "text/plain": [
       "<Figure size 640x480 with 2 Axes>"
      ]
     },
     "metadata": {},
     "output_type": "display_data"
    }
   ],
   "source": [
    "sns.heatmap(data_scaled.corr(), fmt='.3f')"
   ]
  },
  {
   "cell_type": "markdown",
   "id": "6802e486",
   "metadata": {},
   "source": [
    "Среди признаков нет сильно коррелирующих между собой (>0.9 по модулю), поэтому нельзя удалить какие-то признаки по этой причине. Интересно, что достаточно сильно коррелируют между собой возраст клиента и возраст его автомобиля, а также наблюдается отрицательная корреляция между наличием опыта страхования автомобиля и наличием повреждений у машины в прошлом.    \n",
    "\n",
    "С целевой переменной Response сильнее всего коррелирует то, страховал ли уже клиент свою машину, возраст машины и наличие у нее повреждений в прошлом. Посмотрим, какие признаки меньше всего коррелируют с целевой переменной:"
   ]
  },
  {
   "cell_type": "code",
   "execution_count": 27,
   "id": "3e562fcd",
   "metadata": {},
   "outputs": [
    {
     "data": {
      "text/plain": [
       "Vintage                 0.001050\n",
       "Driving_License         0.010155\n",
       "Region_Code             0.010570\n",
       "Annual_Premium          0.022054\n",
       "Gender                  0.052440\n",
       "Age                     0.111147\n",
       "Policy_Sales_Channel    0.139042\n",
       "Vehicle_Age             0.221874\n",
       "Previously_Insured      0.341170\n",
       "Vehicle_Damage          0.354400\n",
       "Response                1.000000\n",
       "Name: Response, dtype: float64"
      ]
     },
     "execution_count": 27,
     "metadata": {},
     "output_type": "execute_result"
    }
   ],
   "source": [
    "response_correlations=data_scaled.corr()['Response']\n",
    "abs(response_correlations).sort_values()"
   ]
  },
  {
   "cell_type": "markdown",
   "id": "0524456e",
   "metadata": {},
   "source": [
    "Здесь это Vintage, Driving_Licence, Region_Code, Annual_Premium и Gender"
   ]
  },
  {
   "cell_type": "markdown",
   "id": "5da4e730",
   "metadata": {},
   "source": [
    "*2) Отбор на основе значений коэффициентов признаков при обучении логистической регрессии с L1-регуляризацией*"
   ]
  },
  {
   "cell_type": "code",
   "execution_count": 28,
   "id": "5d8e379a",
   "metadata": {},
   "outputs": [
    {
     "data": {
      "text/plain": [
       "LogisticRegression(penalty='l1', random_state=1, solver='liblinear')"
      ]
     },
     "execution_count": 28,
     "metadata": {},
     "output_type": "execute_result"
    }
   ],
   "source": [
    "X = data_scaled.drop('Response',axis=1)\n",
    "y = data_scaled['Response']\n",
    "e_lr1 = LogisticRegression(solver='liblinear', penalty='l1', random_state=1)\n",
    "e_lr1.fit(X,y)"
   ]
  },
  {
   "cell_type": "code",
   "execution_count": 29,
   "id": "0a92f793",
   "metadata": {},
   "outputs": [
    {
     "data": {
      "text/plain": [
       "Vintage                 0.003894\n",
       "Region_Code             0.021137\n",
       "Annual_Premium          0.099080\n",
       "Gender                  0.104531\n",
       "Policy_Sales_Channel    0.471675\n",
       "Driving_License         0.990478\n",
       "Age                     1.297012\n",
       "Vehicle_Age             1.380880\n",
       "Vehicle_Damage          2.019846\n",
       "Previously_Insured      4.000112\n",
       "dtype: float64"
      ]
     },
     "execution_count": 29,
     "metadata": {},
     "output_type": "execute_result"
    }
   ],
   "source": [
    "abs(pd.Series(e_lr1.coef_[0], index=X.columns)).sort_values()"
   ]
  },
  {
   "cell_type": "markdown",
   "id": "c61cc0c5",
   "metadata": {},
   "source": [
    "Тут наименьшие коэффициенты у Vintage, Region_Code, Annual_Premium и Gender"
   ]
  },
  {
   "cell_type": "markdown",
   "id": "a20c9a81",
   "metadata": {},
   "source": [
    "*3) Выявление важности признаков с помощью random forest'а*"
   ]
  },
  {
   "cell_type": "code",
   "execution_count": 30,
   "id": "697841d9",
   "metadata": {},
   "outputs": [
    {
     "data": {
      "text/plain": [
       "RandomForestClassifier(n_estimators=10, random_state=17)"
      ]
     },
     "execution_count": 30,
     "metadata": {},
     "output_type": "execute_result"
    }
   ],
   "source": [
    "rfc1 = RandomForestClassifier(n_estimators=10, random_state=17)\n",
    "rfc1.fit(X,y)"
   ]
  },
  {
   "cell_type": "code",
   "execution_count": 31,
   "id": "7aaf6e31",
   "metadata": {},
   "outputs": [
    {
     "data": {
      "text/plain": [
       "Driving_License         0.000544\n",
       "Gender                  0.013757\n",
       "Vehicle_Age             0.020399\n",
       "Previously_Insured      0.039205\n",
       "Policy_Sales_Channel    0.059752\n",
       "Vehicle_Damage          0.088283\n",
       "Region_Code             0.103862\n",
       "Age                     0.144232\n",
       "Annual_Premium          0.244084\n",
       "Vintage                 0.285881\n",
       "dtype: float64"
      ]
     },
     "execution_count": 31,
     "metadata": {},
     "output_type": "execute_result"
    }
   ],
   "source": [
    "abs(pd.Series(rfc1.feature_importances_, index=X.columns)).sort_values()"
   ]
  },
  {
   "cell_type": "markdown",
   "id": "2d5fb898",
   "metadata": {},
   "source": [
    "Наименее важные признаки - Driving_License и Gender, в то время как признаки Vintage, Region_Code и Annual_Premium, обозначенные как самые слабые в п.1 и п.2, считаются наиболее важными."
   ]
  },
  {
   "cell_type": "markdown",
   "id": "f372683d",
   "metadata": {},
   "source": [
    "Исходя из результатов трех методов отбора признаков, удалим признаки Gender и Driving_License, как наименее существенные."
   ]
  },
  {
   "cell_type": "code",
   "execution_count": 55,
   "id": "df8ae91f",
   "metadata": {},
   "outputs": [],
   "source": [
    "data_clean = data_scaled.copy()"
   ]
  },
  {
   "cell_type": "code",
   "execution_count": 56,
   "id": "35076231",
   "metadata": {},
   "outputs": [],
   "source": [
    "data_clean.drop('Gender',axis=1,inplace=True)\n",
    "data_clean.drop('Driving_License',axis=1,inplace=True)"
   ]
  },
  {
   "cell_type": "code",
   "execution_count": 57,
   "id": "84d59ffd",
   "metadata": {},
   "outputs": [
    {
     "data": {
      "text/plain": [
       "(381109, 9)"
      ]
     },
     "execution_count": 57,
     "metadata": {},
     "output_type": "execute_result"
    }
   ],
   "source": [
    "data_clean.shape"
   ]
  },
  {
   "cell_type": "markdown",
   "id": "88c8eac1",
   "metadata": {},
   "source": [
    "### Разделение на X и y"
   ]
  },
  {
   "cell_type": "code",
   "execution_count": 207,
   "id": "077aed65",
   "metadata": {},
   "outputs": [],
   "source": [
    "y = data_clean['Response'].astype(\"int\").values\n",
    "X = data_clean.drop(\"Response\",axis=1).values"
   ]
  },
  {
   "cell_type": "code",
   "execution_count": 208,
   "id": "20d1c59b",
   "metadata": {},
   "outputs": [
    {
     "data": {
      "text/plain": [
       "((381109, 8), (381109,))"
      ]
     },
     "execution_count": 208,
     "metadata": {},
     "output_type": "execute_result"
    }
   ],
   "source": [
    "X.shape, y.shape"
   ]
  },
  {
   "cell_type": "markdown",
   "id": "10543491",
   "metadata": {},
   "source": [
    "Разделим выборку на тренировочную и тестовую части"
   ]
  },
  {
   "cell_type": "code",
   "execution_count": 209,
   "id": "234422b4",
   "metadata": {},
   "outputs": [],
   "source": [
    "X_train, X_test, y_train, y_test = train_test_split(\n",
    "    X, y, test_size=0.2, random_state=1, stratify = y)"
   ]
  },
  {
   "cell_type": "markdown",
   "id": "b002bd38",
   "metadata": {},
   "source": [
    "### Undersampling  \n",
    "Для undersampling'а выберем стратегию NearMiss-3: будут удаляться экземпляры мажоритарного класса, находящиеся ближе всего к экземплярам миноритарного, то есть у разделяющей границы. Такие экземпляры не сильно улучшают качество классификации, поэтому могут быть удалены"
   ]
  },
  {
   "cell_type": "code",
   "execution_count": 211,
   "id": "399635e3",
   "metadata": {},
   "outputs": [],
   "source": [
    "undersample = NearMiss(version=3)\n",
    "X_train, y_train = undersample.fit_resample(X_train, y_train)"
   ]
  },
  {
   "cell_type": "code",
   "execution_count": 212,
   "id": "c3d70803",
   "metadata": {},
   "outputs": [
    {
     "data": {
      "text/plain": [
       "((74736, 8), (74736,))"
      ]
     },
     "execution_count": 212,
     "metadata": {},
     "output_type": "execute_result"
    }
   ],
   "source": [
    "X_train.shape, y_train.shape"
   ]
  },
  {
   "cell_type": "markdown",
   "id": "7240d9dd",
   "metadata": {},
   "source": [
    "Теперь датасет сбалансирован в пропорции 1:1"
   ]
  },
  {
   "cell_type": "code",
   "execution_count": 213,
   "id": "3ba9909b",
   "metadata": {},
   "outputs": [
    {
     "data": {
      "text/plain": [
       "0    37368\n",
       "1    37368\n",
       "dtype: int64"
      ]
     },
     "execution_count": 213,
     "metadata": {},
     "output_type": "execute_result"
    }
   ],
   "source": [
    "pd.Series(y_train).value_counts()"
   ]
  },
  {
   "cell_type": "markdown",
   "id": "b1c9c695",
   "metadata": {},
   "source": [
    "# Выбор модели"
   ]
  },
  {
   "cell_type": "markdown",
   "id": "cfc00795",
   "metadata": {},
   "source": [
    "Для каждой модели будем использовать кросс-валидацию с разбиением на 5 фолдов и стратификацией, чтобы в каждом фолде сохранялось соотношение классов"
   ]
  },
  {
   "cell_type": "code",
   "execution_count": 143,
   "id": "4a6243d7",
   "metadata": {},
   "outputs": [],
   "source": [
    "cv=StratifiedKFold(n_splits=5,shuffle=True,random_state=1)"
   ]
  },
  {
   "cell_type": "markdown",
   "id": "c86bd7ca",
   "metadata": {},
   "source": [
    "### Выбор метрики для сравнения моделей"
   ]
  },
  {
   "cell_type": "markdown",
   "id": "28e98236",
   "metadata": {},
   "source": [
    "Если бы для компании важнее всего было правильно определить всех заинтересованных клиентов, чтобы при проведении маркетинговой кампании включить их в целевую группу, нужно было бы выбрать recall в качестве главной метрики и минимизировать количество ошибок 2 рода. Тем не менее, это неизвестно точно и поэтому главной метрикой будет accuracy. Также для полноты сравнения качества моделей будем рассматривать precision и recall"
   ]
  },
  {
   "cell_type": "markdown",
   "id": "8e2a47d3",
   "metadata": {},
   "source": [
    "### Логистическая регрессия"
   ]
  },
  {
   "cell_type": "code",
   "execution_count": 253,
   "id": "1c738a39",
   "metadata": {},
   "outputs": [
    {
     "name": "stdout",
     "output_type": "stream",
     "text": [
      "Wall time: 17.9 s\n"
     ]
    },
    {
     "data": {
      "text/plain": [
       "RandomizedSearchCV(cv=StratifiedKFold(n_splits=5, random_state=1, shuffle=True),\n",
       "                   estimator=LogisticRegression(), n_iter=30,\n",
       "                   param_distributions=[{'C': array([1.00000000e-03, 1.01862899e-03, 1.03760502e-03, 1.05693455e-03,\n",
       "       1.07662418e-03, 1.09668060e-03, 1.11711065e-03, 1.13792129e-03,\n",
       "       1.15911962e-03, 1.18071285e-03, 1.20270833e-03, 1.22511358e-03,\n",
       "       1.24793621e-03, 1.2...\n",
       "       6.54080591e+00, 6.66265452e+00, 6.78677305e+00, 6.91320378e+00,\n",
       "       7.04198979e+00, 7.17317494e+00, 7.30680395e+00, 7.44292233e+00,\n",
       "       7.58157646e+00, 7.72281357e+00, 7.86668179e+00, 8.01323013e+00,\n",
       "       8.16250851e+00, 8.31456781e+00, 8.46945981e+00, 8.62723729e+00,\n",
       "       8.78795401e+00, 8.95166472e+00, 9.11842520e+00, 9.28829225e+00,\n",
       "       9.46132376e+00, 9.63757866e+00, 9.81711702e+00, 1.00000000e+01])}],\n",
       "                   scoring='accuracy')"
      ]
     },
     "execution_count": 253,
     "metadata": {},
     "output_type": "execute_result"
    }
   ],
   "source": [
    "%%time\n",
    "logit_rand_searcher = RandomizedSearchCV(\n",
    "    LogisticRegression(), param_distributions = [{'C': np.logspace(-3, 1, 500)}], n_iter = 30,\n",
    "    cv=cv, n_jobs=None, scoring='accuracy'\n",
    ")\n",
    "logit_rand_searcher.fit(X_train, y_train)"
   ]
  },
  {
   "cell_type": "code",
   "execution_count": 254,
   "id": "d32f733c",
   "metadata": {},
   "outputs": [
    {
     "data": {
      "text/plain": [
       "<matplotlib.collections.PathCollection at 0x1e00bc83f70>"
      ]
     },
     "execution_count": 254,
     "metadata": {},
     "output_type": "execute_result"
    },
    {
     "data": {
      "image/png": "[encoded data removed]",
      "text/plain": [
       "<Figure size 640x480 with 1 Axes>"
      ]
     },
     "metadata": {},
     "output_type": "display_data"
    }
   ],
   "source": [
    "plt.scatter(logit_rand_searcher.cv_results_['param_C'].data, logit_rand_searcher.cv_results_['mean_test_score'])"
   ]
  },
  {
   "cell_type": "code",
   "execution_count": 255,
   "id": "f9e96e72",
   "metadata": {},
   "outputs": [
    {
     "data": {
      "text/plain": [
       "({'C': 0.4936132098237912}, 0.5554752302126688)"
      ]
     },
     "execution_count": 255,
     "metadata": {},
     "output_type": "execute_result"
    }
   ],
   "source": [
    "logit_rand_searcher.best_params_, logit_rand_searcher.best_score_"
   ]
  },
  {
   "cell_type": "code",
   "execution_count": 256,
   "id": "e30a4aaa",
   "metadata": {},
   "outputs": [
    {
     "data": {
      "text/plain": [
       "LogisticRegression(C=0.4936132098237912)"
      ]
     },
     "execution_count": 256,
     "metadata": {},
     "output_type": "execute_result"
    }
   ],
   "source": [
    "logit_rand_searcher.best_estimator_.fit(X_train,y_train)"
   ]
  },
  {
   "cell_type": "code",
   "execution_count": 257,
   "id": "8191fbff",
   "metadata": {},
   "outputs": [],
   "source": [
    "y_pred = logit_rand_searcher.best_estimator_.predict(X_test)"
   ]
  },
  {
   "cell_type": "code",
   "execution_count": 259,
   "id": "29405e39",
   "metadata": {},
   "outputs": [
    {
     "data": {
      "text/plain": [
       "accuracy     0.764897\n",
       "precision    0.285206\n",
       "recall       0.609613\n",
       "Name: Метрики для логистической регрессии, dtype: float64"
      ]
     },
     "execution_count": 259,
     "metadata": {},
     "output_type": "execute_result"
    }
   ],
   "source": [
    "logit_metrics = pd.Series([\n",
    "      accuracy_score(y_test, y_pred),\n",
    "      precision_score(y_test, y_pred),\n",
    "      recall_score(y_test, y_pred)],\n",
    "      index=['accuracy','precision','recall'],\n",
    "      name='Метрики для логистической регрессии')\n",
    "logit_metrics"
   ]
  },
  {
   "cell_type": "markdown",
   "id": "0c503ca6",
   "metadata": {},
   "source": [
    "### Random Forest"
   ]
  },
  {
   "cell_type": "code",
   "execution_count": 264,
   "id": "6b50c5dd",
   "metadata": {},
   "outputs": [
    {
     "name": "stdout",
     "output_type": "stream",
     "text": [
      "Fitting 5 folds for each of 10 candidates, totalling 50 fits\n",
      "Wall time: 8min 20s\n"
     ]
    },
    {
     "data": {
      "text/plain": [
       "RandomizedSearchCV(cv=StratifiedKFold(n_splits=5, random_state=1, shuffle=True),\n",
       "                   estimator=RandomForestClassifier(max_features=3),\n",
       "                   param_distributions={'criterion': ['entropy', 'gini'],\n",
       "                                        'max_depth': [3, 5, 7, 9, 11],\n",
       "                                        'min_samples_leaf': [4, 6, 8],\n",
       "                                        'n_estimators': [100, 200, 300]},\n",
       "                   random_state=101, scoring='accuracy', verbose=1)"
      ]
     },
     "execution_count": 264,
     "metadata": {},
     "output_type": "execute_result"
    }
   ],
   "source": [
    "%%time\n",
    "random_search = {'criterion': ['entropy', 'gini'],\n",
    "               'max_depth': [3,5,7,9,11],\n",
    "               'min_samples_leaf': [4, 6, 8],\n",
    "               'n_estimators': [100,200,300]}\n",
    "\n",
    "model = RandomizedSearchCV(estimator = RandomForestClassifier(max_features=3),\n",
    "                           param_distributions = random_search,\n",
    "                           n_iter = 10, cv = cv, verbose= 1, random_state= 101,scoring='accuracy')\n",
    "model.fit(X_train,y_train)"
   ]
  },
  {
   "cell_type": "code",
   "execution_count": 265,
   "id": "5e90b965",
   "metadata": {},
   "outputs": [
    {
     "data": {
      "text/plain": [
       "({'n_estimators': 200,\n",
       "  'min_samples_leaf': 8,\n",
       "  'max_depth': 11,\n",
       "  'criterion': 'gini'},\n",
       " 0.6478002160125531)"
      ]
     },
     "execution_count": 265,
     "metadata": {},
     "output_type": "execute_result"
    }
   ],
   "source": [
    "model.best_params_, model.best_score_"
   ]
  },
  {
   "cell_type": "code",
   "execution_count": 266,
   "id": "373d40e9",
   "metadata": {},
   "outputs": [],
   "source": [
    "model.best_estimator_.fit(X_train,y_train)\n",
    "y_pred = model.best_estimator_.predict(X_test)"
   ]
  },
  {
   "cell_type": "code",
   "execution_count": 267,
   "id": "18bffd3c",
   "metadata": {},
   "outputs": [
    {
     "data": {
      "text/plain": [
       "accuracy     0.805620\n",
       "precision    0.305307\n",
       "recall       0.459431\n",
       "Name: Метрики для random forest, dtype: float64"
      ]
     },
     "execution_count": 267,
     "metadata": {},
     "output_type": "execute_result"
    }
   ],
   "source": [
    "forest_metrics = pd.Series([\n",
    "      accuracy_score(y_test, y_pred),\n",
    "      precision_score(y_test, y_pred),\n",
    "      recall_score(y_test, y_pred)],\n",
    "      index=['accuracy','precision','recall'],\n",
    "      name='Метрики для random forest')\n",
    "forest_metrics"
   ]
  },
  {
   "cell_type": "markdown",
   "id": "b6752134",
   "metadata": {},
   "source": [
    "### Градиентный бустинг"
   ]
  },
  {
   "cell_type": "code",
   "execution_count": 260,
   "id": "52e5b72e",
   "metadata": {},
   "outputs": [
    {
     "name": "stdout",
     "output_type": "stream",
     "text": [
      "Fitting 5 folds for each of 80 candidates, totalling 400 fits\n",
      "Wall time: 2min 12s\n"
     ]
    },
    {
     "data": {
      "text/plain": [
       "GridSearchCV(cv=StratifiedKFold(n_splits=5, random_state=1, shuffle=True),\n",
       "             estimator=LGBMClassifier(),\n",
       "             param_grid={'learning_rate': [0.001, 0.01, 0.1, 1.0],\n",
       "                         'max_depth': [3, 5, 7, 9, 11],\n",
       "                         'n_estimators': [50, 100, 150, 200]},\n",
       "             scoring='accuracy', verbose=1)"
      ]
     },
     "execution_count": 260,
     "metadata": {},
     "output_type": "execute_result"
    }
   ],
   "source": [
    "%%time\n",
    "random_search = {'max_depth': [3,5,7,9,11],\n",
    "        'learning_rate': [0.001, 0.01, 0.1, 1.0],\n",
    "        'n_estimators': [50,100,150,200]}\n",
    "model = GridSearchCV(LGBMClassifier(),\n",
    "                    random_search,\n",
    "                    cv = cv, verbose= 1, n_jobs = None, scoring = 'accuracy')\n",
    "model.fit(X_train,y_train)"
   ]
  },
  {
   "cell_type": "code",
   "execution_count": 261,
   "id": "53136865",
   "metadata": {},
   "outputs": [
    {
     "data": {
      "text/plain": [
       "({'learning_rate': 0.1, 'max_depth': 11, 'n_estimators': 50},\n",
       " 0.653473529045335)"
      ]
     },
     "execution_count": 261,
     "metadata": {},
     "output_type": "execute_result"
    }
   ],
   "source": [
    "model.best_params_, model.best_score_"
   ]
  },
  {
   "cell_type": "code",
   "execution_count": 262,
   "id": "50aa9d71",
   "metadata": {},
   "outputs": [],
   "source": [
    "model.best_estimator_.fit(X_train,y_train)\n",
    "y_pred = model.best_estimator_.predict(X_test)"
   ]
  },
  {
   "cell_type": "code",
   "execution_count": 263,
   "id": "0ac3a9f2",
   "metadata": {},
   "outputs": [
    {
     "data": {
      "text/plain": [
       "accuracy     0.806631\n",
       "precision    0.308875\n",
       "recall       0.466817\n",
       "Name: Метрики для lgbm, dtype: float64"
      ]
     },
     "execution_count": 263,
     "metadata": {},
     "output_type": "execute_result"
    }
   ],
   "source": [
    "lgbm_metrics = pd.Series([\n",
    "      accuracy_score(y_test, y_pred),\n",
    "      precision_score(y_test, y_pred),\n",
    "      recall_score(y_test, y_pred)],\n",
    "      index=['accuracy','precision','recall'],\n",
    "      name='Метрики для lgbm')\n",
    "lgbm_metrics"
   ]
  },
  {
   "cell_type": "markdown",
   "id": "a796ead9",
   "metadata": {},
   "source": [
    "# Вывод"
   ]
  },
  {
   "cell_type": "markdown",
   "id": "0e8833ef",
   "metadata": {},
   "source": [
    "Таким образом, градиентный бустинг имеет наиболее высокие показатели accuracy (80,7%) и может быть выбран в качестве модели для предсказания заинтересованности клиентов страховой компании в приобретении дополнительных услуг"
   ]
  }
 ],
 "metadata": {
  "kernelspec": {
   "display_name": "Python 3 (ipykernel)",
   "language": "python",
   "name": "python3"
  },
  "language_info": {
   "codemirror_mode": {
    "name": "ipython",
    "version": 3
   },
   "file_extension": ".py",
   "mimetype": "text/x-python",
   "name": "python",
   "nbconvert_exporter": "python",
   "pygments_lexer": "ipython3",
   "version": "3.9.13"
  }
 },
 "nbformat": 4,
 "nbformat_minor": 5
}
